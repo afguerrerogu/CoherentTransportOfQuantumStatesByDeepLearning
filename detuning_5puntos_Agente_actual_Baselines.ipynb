{
  "nbformat": 4,
  "nbformat_minor": 0,
  "metadata": {
    "colab": {
      "name": "detuning_5puntos_Agente_actual_Baselines.ipynb",
      "provenance": [],
      "collapsed_sections": []
    },
    "kernelspec": {
      "name": "python3",
      "display_name": "Python 3"
    },
    "accelerator": "GPU"
  },
  "cells": [
    {
      "cell_type": "code",
      "metadata": {
        "id": "gWskDE2c9WoN",
        "colab": {
          "base_uri": "https://localhost:8080/"
        },
        "outputId": "23e5421f-80c7-4f18-c899-d35254a87457"
      },
      "source": [
        "!pip install stable-baselines3[extra]\n",
        "#!pip install stable-baselines"
      ],
      "execution_count": null,
      "outputs": [
        {
          "output_type": "stream",
          "name": "stdout",
          "text": [
            "Looking in indexes: https://pypi.org/simple, https://us-python.pkg.dev/colab-wheels/public/simple/\n",
            "Requirement already satisfied: stable-baselines3[extra] in /usr/local/lib/python3.7/dist-packages (1.5.0)\n",
            "Requirement already satisfied: cloudpickle in /usr/local/lib/python3.7/dist-packages (from stable-baselines3[extra]) (1.3.0)\n",
            "Requirement already satisfied: torch>=1.8.1 in /usr/local/lib/python3.7/dist-packages (from stable-baselines3[extra]) (1.11.0+cu113)\n",
            "Requirement already satisfied: matplotlib in /usr/local/lib/python3.7/dist-packages (from stable-baselines3[extra]) (3.2.2)\n",
            "Requirement already satisfied: pandas in /usr/local/lib/python3.7/dist-packages (from stable-baselines3[extra]) (1.3.5)\n",
            "Requirement already satisfied: gym==0.21 in /usr/local/lib/python3.7/dist-packages (from stable-baselines3[extra]) (0.21.0)\n",
            "Requirement already satisfied: numpy in /usr/local/lib/python3.7/dist-packages (from stable-baselines3[extra]) (1.21.6)\n",
            "Requirement already satisfied: pillow in /usr/local/lib/python3.7/dist-packages (from stable-baselines3[extra]) (7.1.2)\n",
            "Requirement already satisfied: tensorboard>=2.2.0 in /usr/local/lib/python3.7/dist-packages (from stable-baselines3[extra]) (2.8.0)\n",
            "Requirement already satisfied: ale-py~=0.7.4 in /usr/local/lib/python3.7/dist-packages (from stable-baselines3[extra]) (0.7.5)\n",
            "Requirement already satisfied: autorom[accept-rom-license]~=0.4.2 in /usr/local/lib/python3.7/dist-packages (from stable-baselines3[extra]) (0.4.2)\n",
            "Requirement already satisfied: opencv-python in /usr/local/lib/python3.7/dist-packages (from stable-baselines3[extra]) (4.1.2.30)\n",
            "Requirement already satisfied: psutil in /usr/local/lib/python3.7/dist-packages (from stable-baselines3[extra]) (5.4.8)\n",
            "Requirement already satisfied: importlib-metadata>=4.8.1 in /usr/local/lib/python3.7/dist-packages (from gym==0.21->stable-baselines3[extra]) (4.11.4)\n",
            "Requirement already satisfied: importlib-resources in /usr/local/lib/python3.7/dist-packages (from ale-py~=0.7.4->stable-baselines3[extra]) (5.7.1)\n",
            "Requirement already satisfied: tqdm in /usr/local/lib/python3.7/dist-packages (from autorom[accept-rom-license]~=0.4.2->stable-baselines3[extra]) (4.64.0)\n",
            "Requirement already satisfied: requests in /usr/local/lib/python3.7/dist-packages (from autorom[accept-rom-license]~=0.4.2->stable-baselines3[extra]) (2.23.0)\n",
            "Requirement already satisfied: click in /usr/local/lib/python3.7/dist-packages (from autorom[accept-rom-license]~=0.4.2->stable-baselines3[extra]) (7.1.2)\n",
            "Requirement already satisfied: AutoROM.accept-rom-license in /usr/local/lib/python3.7/dist-packages (from autorom[accept-rom-license]~=0.4.2->stable-baselines3[extra]) (0.4.2)\n",
            "Requirement already satisfied: typing-extensions>=3.6.4 in /usr/local/lib/python3.7/dist-packages (from importlib-metadata>=4.8.1->gym==0.21->stable-baselines3[extra]) (4.1.1)\n",
            "Requirement already satisfied: zipp>=0.5 in /usr/local/lib/python3.7/dist-packages (from importlib-metadata>=4.8.1->gym==0.21->stable-baselines3[extra]) (3.8.0)\n",
            "Requirement already satisfied: tensorboard-plugin-wit>=1.6.0 in /usr/local/lib/python3.7/dist-packages (from tensorboard>=2.2.0->stable-baselines3[extra]) (1.8.1)\n",
            "Requirement already satisfied: absl-py>=0.4 in /usr/local/lib/python3.7/dist-packages (from tensorboard>=2.2.0->stable-baselines3[extra]) (1.1.0)\n",
            "Requirement already satisfied: protobuf>=3.6.0 in /usr/local/lib/python3.7/dist-packages (from tensorboard>=2.2.0->stable-baselines3[extra]) (3.17.3)\n",
            "Requirement already satisfied: setuptools>=41.0.0 in /usr/local/lib/python3.7/dist-packages (from tensorboard>=2.2.0->stable-baselines3[extra]) (57.4.0)\n",
            "Requirement already satisfied: grpcio>=1.24.3 in /usr/local/lib/python3.7/dist-packages (from tensorboard>=2.2.0->stable-baselines3[extra]) (1.46.3)\n",
            "Requirement already satisfied: google-auth<3,>=1.6.3 in /usr/local/lib/python3.7/dist-packages (from tensorboard>=2.2.0->stable-baselines3[extra]) (1.35.0)\n",
            "Requirement already satisfied: markdown>=2.6.8 in /usr/local/lib/python3.7/dist-packages (from tensorboard>=2.2.0->stable-baselines3[extra]) (3.3.7)\n",
            "Requirement already satisfied: wheel>=0.26 in /usr/local/lib/python3.7/dist-packages (from tensorboard>=2.2.0->stable-baselines3[extra]) (0.37.1)\n",
            "Requirement already satisfied: werkzeug>=0.11.15 in /usr/local/lib/python3.7/dist-packages (from tensorboard>=2.2.0->stable-baselines3[extra]) (1.0.1)\n",
            "Requirement already satisfied: google-auth-oauthlib<0.5,>=0.4.1 in /usr/local/lib/python3.7/dist-packages (from tensorboard>=2.2.0->stable-baselines3[extra]) (0.4.6)\n",
            "Requirement already satisfied: tensorboard-data-server<0.7.0,>=0.6.0 in /usr/local/lib/python3.7/dist-packages (from tensorboard>=2.2.0->stable-baselines3[extra]) (0.6.1)\n",
            "Requirement already satisfied: cachetools<5.0,>=2.0.0 in /usr/local/lib/python3.7/dist-packages (from google-auth<3,>=1.6.3->tensorboard>=2.2.0->stable-baselines3[extra]) (4.2.4)\n",
            "Requirement already satisfied: rsa<5,>=3.1.4 in /usr/local/lib/python3.7/dist-packages (from google-auth<3,>=1.6.3->tensorboard>=2.2.0->stable-baselines3[extra]) (4.8)\n",
            "Requirement already satisfied: six>=1.9.0 in /usr/local/lib/python3.7/dist-packages (from google-auth<3,>=1.6.3->tensorboard>=2.2.0->stable-baselines3[extra]) (1.15.0)\n",
            "Requirement already satisfied: pyasn1-modules>=0.2.1 in /usr/local/lib/python3.7/dist-packages (from google-auth<3,>=1.6.3->tensorboard>=2.2.0->stable-baselines3[extra]) (0.2.8)\n",
            "Requirement already satisfied: requests-oauthlib>=0.7.0 in /usr/local/lib/python3.7/dist-packages (from google-auth-oauthlib<0.5,>=0.4.1->tensorboard>=2.2.0->stable-baselines3[extra]) (1.3.1)\n",
            "Requirement already satisfied: pyasn1<0.5.0,>=0.4.6 in /usr/local/lib/python3.7/dist-packages (from pyasn1-modules>=0.2.1->google-auth<3,>=1.6.3->tensorboard>=2.2.0->stable-baselines3[extra]) (0.4.8)\n",
            "Requirement already satisfied: certifi>=2017.4.17 in /usr/local/lib/python3.7/dist-packages (from requests->autorom[accept-rom-license]~=0.4.2->stable-baselines3[extra]) (2022.6.15)\n",
            "Requirement already satisfied: idna<3,>=2.5 in /usr/local/lib/python3.7/dist-packages (from requests->autorom[accept-rom-license]~=0.4.2->stable-baselines3[extra]) (2.10)\n",
            "Requirement already satisfied: chardet<4,>=3.0.2 in /usr/local/lib/python3.7/dist-packages (from requests->autorom[accept-rom-license]~=0.4.2->stable-baselines3[extra]) (3.0.4)\n",
            "Requirement already satisfied: urllib3!=1.25.0,!=1.25.1,<1.26,>=1.21.1 in /usr/local/lib/python3.7/dist-packages (from requests->autorom[accept-rom-license]~=0.4.2->stable-baselines3[extra]) (1.24.3)\n",
            "Requirement already satisfied: oauthlib>=3.0.0 in /usr/local/lib/python3.7/dist-packages (from requests-oauthlib>=0.7.0->google-auth-oauthlib<0.5,>=0.4.1->tensorboard>=2.2.0->stable-baselines3[extra]) (3.2.0)\n",
            "Requirement already satisfied: pyparsing!=2.0.4,!=2.1.2,!=2.1.6,>=2.0.1 in /usr/local/lib/python3.7/dist-packages (from matplotlib->stable-baselines3[extra]) (3.0.9)\n",
            "Requirement already satisfied: cycler>=0.10 in /usr/local/lib/python3.7/dist-packages (from matplotlib->stable-baselines3[extra]) (0.11.0)\n",
            "Requirement already satisfied: python-dateutil>=2.1 in /usr/local/lib/python3.7/dist-packages (from matplotlib->stable-baselines3[extra]) (2.8.2)\n",
            "Requirement already satisfied: kiwisolver>=1.0.1 in /usr/local/lib/python3.7/dist-packages (from matplotlib->stable-baselines3[extra]) (1.4.3)\n",
            "Requirement already satisfied: pytz>=2017.3 in /usr/local/lib/python3.7/dist-packages (from pandas->stable-baselines3[extra]) (2022.1)\n"
          ]
        }
      ]
    },
    {
      "cell_type": "code",
      "metadata": {
        "id": "BIedd7Pz9sOs"
      },
      "source": [
        "import gym\n",
        "import numpy as np"
      ],
      "execution_count": null,
      "outputs": []
    },
    {
      "cell_type": "code",
      "metadata": {
        "id": "R7tKaBFrTR0a"
      },
      "source": [
        "from stable_baselines3 import PPO\n",
        "from stable_baselines3 import DDPG\n",
        "#from stable_baselines import TRPO"
      ],
      "execution_count": null,
      "outputs": []
    },
    {
      "cell_type": "code",
      "metadata": {
        "id": "ROUJr675TT01"
      },
      "source": [
        "#from stable_baselines3.ppo.policies import MlpPolicy\n",
        "from stable_baselines3.ddpg.policies import MlpPolicy"
      ],
      "execution_count": null,
      "outputs": []
    },
    {
      "cell_type": "code",
      "source": [
        "from gym import Env\n",
        "from gym.spaces import Discrete, Box\n",
        "import numpy as np\n",
        "import random\n",
        "import numpy as np\n",
        "import matplotlib.pyplot as plt\n",
        "!pip install odeintw\n",
        "from odeintw import odeintw\n",
        "\n",
        "class PassageEnv(Env):\n",
        "    def __init__(self):\n",
        "        # Limites y espacio de las acciones [omega1, omega2]\n",
        "        self.action_space = Box(low=np.array([0,0,0]), high=np.array([1,1,1]))\n",
        "        #  Limites y espacio de los estados: [\\rho, sigma1, sigma2]\n",
        "\n",
        "        \"\"\" rho = [ [0,0,0,0,0],       rho_max = [ [1,1,1,1,1],       omega_min = [0,0,0]\n",
        "                    [0,0,0,0,0],                   [1,1,1,1,1],       omega_max = [1,1,1]\n",
        "                    [0,0,0,0,0],                   [1,1,1,1,1],\n",
        "                    [0,0,0,0,0],                   [1,1,1,1,1],\n",
        "                    [0,0,0,0,0]]                   [1,1,1,1,1] ]                 \"\"\"\n",
        "\n",
        "        self.observation_space = Box(low=np.array([0,0,0,0,0, 0,0,0,0,0, 0,0,0,0,0, 0,0,0,0,0, 0,0,0,0,0, 0,0,0]), \n",
        "                                high=np.array([1,1,1,1,1, 1,1,1,1,1, 1,1,1,1,1, 1,1,1,1,1, 1,1,1,1,1, 1,1,1]))\n",
        "        # Set start state\n",
        "        self.state = np.array([1,0,0,0,0,\n",
        "                               0,0,0,0,0, \n",
        "                               0,0,0,0,0, \n",
        "                               0,0,0,0,0,\n",
        "                               0,0,0,0,0, 0,0,0],dtype=np.complex128)\n",
        "\n",
        "        self.length_trial = 0\n",
        "\n",
        "\n",
        "    def refuerzo(self, p5, p2, p3, p4):\n",
        "        return (-1 + 20*p5 - p2 - p3 - p4) #+ A(p2)\n",
        "\n",
        "    def step(self, action):\n",
        "        # Aplicar accion\n",
        "        omega1 = action[0]\n",
        "        omega2 = action[1]\n",
        "        omega3 = action[2]\n",
        "\n",
        "        # Cambiar el hamiltoniano\n",
        "        def right_part(rho, t):\n",
        "  \n",
        "          hamiltonian = np.array([[    0    ,  -omega1 ,    0    ,    0    ,    0    ],\n",
        "                                  [ -omega1 ,    0.1   , -omega3 ,    0    ,    0    ],\n",
        "                                  [    0    ,  -omega3 ,   -0.1   , -omega3 ,    0    ],\n",
        "                                  [    0    ,     0    , -omega3 ,   0.1   , -omega2 ],\n",
        "                                  [    0    ,     0    ,     0   , -omega2 ,   0.2   ]],\n",
        "                                  dtype=np.complex128)\n",
        "          return (np.dot(hamiltonian, rho) - np.dot(rho, hamiltonian)) / (1j)\n",
        "\n",
        "        # Evolucion temporal\n",
        "        N = 100\n",
        "        omegamax = 1\n",
        "        dt = (10*np.pi/omegamax)/N\n",
        "        #tmax = 10\n",
        "        tpasos = np.linspace(0,dt,N)\n",
        "        rho = np.array([[self.state[i] for i in range(0,5)],\n",
        "                        [self.state[i] for i in range(5,10)],\n",
        "                        [self.state[i] for i in range(10,15)],\n",
        "                        [self.state[i] for i in range(15,20)],\n",
        "                        [self.state[i] for i in range(20,25)]], dtype=np.complex128)\n",
        "\n",
        "        result = odeintw(right_part, rho, tpasos)\n",
        "        final_result = result[-1]\n",
        "        final_result = np.reshape(final_result,(25,))\n",
        "\n",
        "        # Nuevo estado a partir de la matriz densidad obtenida\n",
        "        result = final_result\n",
        "        self.state = np.array([result[0], result[1], result[2], result[3], result[4],\n",
        "                               result[5], result[6], result[7], result[8], result[9],\n",
        "                               result[10], result[11], result[12], result[13], result[14],\n",
        "                               result[15], result[16], result[17], result[18], result[19],\n",
        "                               result[20], result[21], result[22], result[23], result[24],\n",
        "                               omega1, omega2,omega3])\n",
        "        \n",
        "        done =False\n",
        "\n",
        "        # Calcular el refuerzo\n",
        "        reward = self.refuerzo(self.state[24], self.state[6], self.state[12], self.state[18] )\n",
        "\n",
        "      \n",
        "        if self.state[6]>0.05 or self.state[12]>0.05  or self.state[18]>0.05 :\n",
        "          reward -= 10\n",
        "\n",
        "        self.length_trial += 1\n",
        "      \n",
        "        if self.state[24] >= 0.98 and self.length_trial ==100:\n",
        "            reward += 10000\n",
        "            done = True\n",
        "\n",
        "\n",
        "        if self.length_trial >= 100:\n",
        "            done = True\n",
        "\n",
        "\n",
        "        info = {}\n",
        "\n",
        "        return self.state, reward, done, info\n",
        "\n",
        "    def render(self):\n",
        "        pass\n",
        "\n",
        "    def reset(self):\n",
        "        self.state = np.array([1,0,0,0,0,\n",
        "                               0,0,0,0,0, \n",
        "                               0,0,0,0,0, \n",
        "                               0,0,0,0,0,\n",
        "                               0,0,0,0,0, 0,0,0],dtype=np.complex128)\n",
        "        self.length_trial = 0\n",
        "        return self.state"
      ],
      "metadata": {
        "colab": {
          "base_uri": "https://localhost:8080/"
        },
        "outputId": "5f02b2ef-b624-4458-8c6b-f3c532812ddc",
        "id": "AwdAtaGMt4J0"
      },
      "execution_count": null,
      "outputs": [
        {
          "output_type": "stream",
          "name": "stdout",
          "text": [
            "Looking in indexes: https://pypi.org/simple, https://us-python.pkg.dev/colab-wheels/public/simple/\n",
            "Requirement already satisfied: odeintw in /usr/local/lib/python3.7/dist-packages (0.1.1)\n",
            "Requirement already satisfied: scipy in /usr/local/lib/python3.7/dist-packages (from odeintw) (1.4.1)\n",
            "Requirement already satisfied: numpy>=1.13.3 in /usr/local/lib/python3.7/dist-packages (from scipy->odeintw) (1.21.6)\n"
          ]
        }
      ]
    },
    {
      "cell_type": "code",
      "metadata": {
        "id": "pUWGZp3i9wyf",
        "colab": {
          "base_uri": "https://localhost:8080/"
        },
        "outputId": "efac216c-ac48-4663-9a21-fbcfdc679c1c"
      },
      "source": [
        "#env = gym.make('CartPole-v1')\n",
        "env = PassageEnv()\n",
        "\n",
        "#model = PPO(MlpPolicy, env, verbose=0)\n",
        "model = DDPG(MlpPolicy, env)"
      ],
      "execution_count": null,
      "outputs": [
        {
          "output_type": "stream",
          "name": "stderr",
          "text": [
            "/usr/local/lib/python3.7/dist-packages/gym/spaces/box.py:74: UserWarning: \u001b[33mWARN: Box bound precision lowered by casting to float32\u001b[0m\n",
            "  \"Box bound precision lowered by casting to {}\".format(self.dtype)\n"
          ]
        }
      ]
    },
    {
      "cell_type": "code",
      "metadata": {
        "id": "63M8mSKR-6Zt"
      },
      "source": [
        "def evaluate(model, num_episodes=100):\n",
        "    \"\"\"\n",
        "    Evaluate a RL agent\n",
        "    :param model: (BaseRLModel object) the RL Agent\n",
        "    :param num_episodes: (int) number of episodes to evaluate it\n",
        "    :return: (float) Mean reward for the last num_episodes\n",
        "    \"\"\"\n",
        "    # This function will only work for a single Environment\n",
        "    env = model.get_env()\n",
        "    all_episode_rewards = []\n",
        "    for i in range(num_episodes):\n",
        "        episode_rewards = []\n",
        "        done = False\n",
        "        obs = env.reset()\n",
        "        while not done:\n",
        "            # _states are only useful when using LSTM policies\n",
        "            action, _states = model.predict(obs)\n",
        "            # here, action, rewards and dones are arrays\n",
        "            # because we are using vectorized env\n",
        "            obs, reward, done, info = env.step(action)\n",
        "            episode_rewards.append(reward)\n",
        "\n",
        "        all_episode_rewards.append(sum(episode_rewards))\n",
        "\n",
        "    mean_episode_reward = np.mean(all_episode_rewards)\n",
        "    print(\"Mean reward:\", mean_episode_reward, \"Num episodes:\", num_episodes)\n",
        "\n",
        "    return mean_episode_reward"
      ],
      "execution_count": null,
      "outputs": []
    },
    {
      "cell_type": "code",
      "metadata": {
        "id": "8z6K9YImYJEx"
      },
      "source": [
        "from stable_baselines3.common.evaluation import evaluate_policy"
      ],
      "execution_count": null,
      "outputs": []
    },
    {
      "cell_type": "code",
      "metadata": {
        "id": "e4cfSXIB-pTF",
        "colab": {
          "base_uri": "https://localhost:8080/"
        },
        "outputId": "5170d63c-d927-4583-b3a5-4b671010b6dc"
      },
      "source": [
        "# Train the agent for 10000 steps\n",
        "N_steps = 5000\n",
        "model.learn(total_timesteps=N_steps)"
      ],
      "execution_count": null,
      "outputs": [
        {
          "output_type": "stream",
          "name": "stderr",
          "text": [
            "/usr/local/lib/python3.7/dist-packages/stable_baselines3/common/vec_env/dummy_vec_env.py:92: ComplexWarning: Casting complex values to real discards the imaginary part\n",
            "  self.buf_obs[key][env_idx] = obs\n",
            "/usr/local/lib/python3.7/dist-packages/stable_baselines3/common/vec_env/dummy_vec_env.py:44: ComplexWarning: Casting complex values to real discards the imaginary part\n",
            "  self.actions[env_idx]\n",
            "/usr/local/lib/python3.7/dist-packages/stable_baselines3/common/off_policy_algorithm.py:502: ComplexWarning: Casting complex values to real discards the imaginary part\n",
            "  next_obs[i] = infos[i][\"terminal_observation\"]\n"
          ]
        },
        {
          "output_type": "execute_result",
          "data": {
            "text/plain": [
              "<stable_baselines3.ddpg.ddpg.DDPG at 0x7fbd6468b190>"
            ]
          },
          "metadata": {},
          "execution_count": 22
        }
      ]
    },
    {
      "cell_type": "code",
      "metadata": {
        "id": "ygl_gVmV_QP7"
      },
      "source": [
        "# Evaluate the trained agent\n",
        "#mean_reward, std_reward = evaluate_policy(model, env, n_eval_episodes=100)\n",
        "#mean_reward_before_train = evaluate(model, num_episodes=100)\n",
        "\n",
        "#print(f\"mean_reward:{mean_reward:.2f} +/- {std_reward:.2f}\")"
      ],
      "execution_count": null,
      "outputs": []
    },
    {
      "cell_type": "code",
      "source": [
        "# Leyendo archivos desde Google drive\n",
        "GOOGLE_DRIVE = '/content/google_drive'\n",
        "import numpy as np\n",
        "from google.colab import drive\n",
        "drive.mount(GOOGLE_DRIVE)\n",
        "path = GOOGLE_DRIVE+'/MyDrive/archivos_teorica/'\n",
        "import os.path\n",
        "import os\n",
        "\n",
        "dir_path = path+'BL_5puntos_detuning_'+str(N_steps)+'/'\n",
        "\n",
        "isExist = os.path.exists(dir_path)\n",
        "\n",
        "if not isExist:\n",
        "  os.makedirs(dir_path)\n",
        "\n",
        "path_file = dir_path+\"Baselines_Model_W_\"+str(N_steps)+\"_episodes\"\n",
        "file_exists = os.path.exists(path_file+'.zip')\n",
        "print(file_exists)\n",
        "\n",
        "if not file_exists:\n",
        "  model.save(path_file)"
      ],
      "metadata": {
        "colab": {
          "base_uri": "https://localhost:8080/"
        },
        "outputId": "79f669c7-a80b-4cdb-ca1e-273b896c36c6",
        "id": "gfeinDdMljNf"
      },
      "execution_count": null,
      "outputs": [
        {
          "output_type": "stream",
          "name": "stdout",
          "text": [
            "Drive already mounted at /content/google_drive; to attempt to forcibly remount, call drive.mount(\"/content/google_drive\", force_remount=True).\n",
            "True\n"
          ]
        }
      ]
    },
    {
      "cell_type": "code",
      "execution_count": null,
      "metadata": {
        "colab": {
          "base_uri": "https://localhost:8080/",
          "height": 943
        },
        "outputId": "abdba9d6-02e6-4e15-e10b-986add14bda8",
        "id": "idz56qugl8oe"
      },
      "outputs": [
        {
          "output_type": "stream",
          "name": "stdout",
          "text": [
            "acciones\n"
          ]
        },
        {
          "output_type": "stream",
          "name": "stderr",
          "text": [
            "/usr/local/lib/python3.7/dist-packages/stable_baselines3/common/vec_env/dummy_vec_env.py:92: ComplexWarning: Casting complex values to real discards the imaginary part\n",
            "  self.buf_obs[key][env_idx] = obs\n",
            "/usr/local/lib/python3.7/dist-packages/stable_baselines3/common/vec_env/dummy_vec_env.py:44: ComplexWarning: Casting complex values to real discards the imaginary part\n",
            "  self.actions[env_idx]\n"
          ]
        },
        {
          "output_type": "display_data",
          "data": {
            "text/plain": [
              "<Figure size 432x288 with 1 Axes>"
            ],
            "image/png": "[encoded data removed]"
          },
          "metadata": {
            "needs_background": "light"
          }
        },
        {
          "output_type": "stream",
          "name": "stdout",
          "text": [
            "estado\n"
          ]
        },
        {
          "output_type": "display_data",
          "data": {
            "text/plain": [
              "<Figure size 432x288 with 1 Axes>"
            ],
            "image/png": "[encoded data removed]"
          },
          "metadata": {
            "needs_background": "light"
          }
        },
        {
          "output_type": "stream",
          "name": "stdout",
          "text": [
            "reward\n"
          ]
        },
        {
          "output_type": "display_data",
          "data": {
            "text/plain": [
              "<Figure size 432x288 with 1 Axes>"
            ],
            "image/png": "[encoded data removed]"
          },
          "metadata": {
            "needs_background": "light"
          }
        }
      ],
      "source": [
        "env = model.get_env()\n",
        "episode_rewards = []\n",
        "done = False\n",
        "obs = env.reset()\n",
        "actions = []\n",
        "p1, p2, p3, p4, p5 = [obs[0][0]], [obs[0][6]], [obs[0][12]], [obs[0][18]], [obs[0][24]]\n",
        "actions.append([[0,0,0]])\n",
        "obs, reward, done, info = env.step(actions[0])\n",
        "while not done:\n",
        "    # _states are only useful when using LSTM policies\n",
        "    action, _states = model.predict(obs)\n",
        "    actions.append(action)\n",
        "    # here, action, rewards and dones are arrays\n",
        "    # because we are using vectorized env\n",
        "    obs, reward, done, info = env.step(action)\n",
        "    p1.append(obs[0][0])\n",
        "    p2.append(obs[0][6])\n",
        "    p3.append(obs[0][12])\n",
        "    p4.append(obs[0][18])\n",
        "    p5.append(obs[0][24])\n",
        "    episode_rewards.append(reward)\n",
        "actions = np.array(actions)\n",
        "actions.shape\n",
        "\n",
        "N = len(actions[:,0,0])\n",
        "tmax = 50*np.pi\n",
        "tpasos = np.linspace(0,tmax,N)\n",
        "print('acciones')\n",
        "plt.xlabel('t[$\\mathregular{ps}$]')\n",
        "plt.ylabel('$\\mathregular{\\Omega/\\Omega_{max}}$')\n",
        "plt.step(tpasos, actions[:,0,0],label='$\\mathregular{\\Omega_{1}}$')\n",
        "plt.step(tpasos, actions[:,0,1],label='$\\mathregular{\\Omega_{2}}$')\n",
        "plt.step(tpasos, actions[:,0,2],label='$\\mathregular{\\Omega_{3}}$')\n",
        "plt.legend()\n",
        "path_img = dir_path+'Acciones.png'\n",
        "file_exists = os.path.exists(path_img)\n",
        "if not file_exists:\n",
        "  plt.savefig(dir_path+'Acciones.png', dpi=300, transparent=False, bbox_inches='tight')\n",
        "plt.show()\n",
        "print('estado')\n",
        "plt.plot(tpasos[:-1]/(np.pi), p1[:-1], label='rho1')\n",
        "plt.plot(tpasos[:-1]/(np.pi), p2[:-1], label='rho2')\n",
        "plt.plot(tpasos[:-1]/(np.pi),p3[:-1], label='rho3')\n",
        "plt.plot(tpasos[:-1]/(np.pi),p4[:-1], label='rho4')\n",
        "plt.plot(tpasos[:-1]/(np.pi), p5[:-1], label='rho5')\n",
        "plt.legend()\n",
        "plt.xlabel('t[$\\mathregular{ps}$]')\n",
        "plt.ylabel('$\\mathregular{\\\\rho}$')\n",
        "\n",
        "path_img = dir_path+'Estado.png'\n",
        "file_exists = os.path.exists(path_img)\n",
        "if not file_exists:\n",
        "  plt.savefig(dir_path+'Estado.png', dpi=300, transparent=False, bbox_inches='tight')\n",
        "plt.show()\n",
        "ptot = np.array(p1)+np.array(p2)+np.array(p3)\n",
        "plt.plot(ptot)\n",
        "print('reward')\n",
        "plt.plot(episode_rewards)\n",
        "plt.show()"
      ]
    },
    {
      "cell_type": "code",
      "execution_count": null,
      "metadata": {
        "id": "zyQi5o09q3U4",
        "colab": {
          "base_uri": "https://localhost:8080/",
          "height": 1000
        },
        "outputId": "be96729c-a5bb-4ab8-ee3d-0ca035f71668"
      },
      "outputs": [
        {
          "output_type": "stream",
          "name": "stderr",
          "text": [
            "/usr/local/lib/python3.7/dist-packages/stable_baselines3/common/vec_env/dummy_vec_env.py:92: ComplexWarning: Casting complex values to real discards the imaginary part\n",
            "  self.buf_obs[key][env_idx] = obs\n",
            "/usr/local/lib/python3.7/dist-packages/stable_baselines3/common/vec_env/dummy_vec_env.py:44: ComplexWarning: Casting complex values to real discards the imaginary part\n",
            "  self.actions[env_idx]\n"
          ]
        },
        {
          "output_type": "stream",
          "name": "stdout",
          "text": [
            "acciones\n"
          ]
        },
        {
          "output_type": "display_data",
          "data": {
            "text/plain": [
              "<Figure size 432x288 with 1 Axes>"
            ],
            "image/png": "[encoded data removed]"
          },
          "metadata": {
            "needs_background": "light"
          }
        },
        {
          "output_type": "stream",
          "name": "stdout",
          "text": [
            "reward\n"
          ]
        },
        {
          "output_type": "display_data",
          "data": {
            "text/plain": [
              "<Figure size 432x288 with 1 Axes>"
            ],
            "image/png": "[encoded data removed]"
          },
          "metadata": {
            "needs_background": "light"
          }
        },
        {
          "output_type": "stream",
          "name": "stdout",
          "text": [
            "estado\n"
          ]
        },
        {
          "output_type": "display_data",
          "data": {
            "text/plain": [
              "<Figure size 432x288 with 1 Axes>"
            ],
            "image/png": "[encoded data removed]"
          },
          "metadata": {
            "needs_background": "light"
          }
        },
        {
          "output_type": "execute_result",
          "data": {
            "text/plain": [
              "[<matplotlib.lines.Line2D at 0x7fbd64434490>]"
            ]
          },
          "metadata": {},
          "execution_count": 26
        },
        {
          "output_type": "display_data",
          "data": {
            "text/plain": [
              "<Figure size 432x288 with 1 Axes>"
            ],
            "image/png": "[encoded data removed]"
          },
          "metadata": {
            "needs_background": "light"
          }
        }
      ],
      "source": [
        "env = model.get_env()\n",
        "episode_rewards = []\n",
        "done = False\n",
        "obs = env.reset()\n",
        "actions = []\n",
        "p1, p2, p3, p4, p5 = [obs[0][0]], [obs[0][6]], [obs[0][12]], [obs[0][18]], [obs[0][24]]\n",
        "actions.append([[0,0,0]])\n",
        "obs, reward, done, info = env.step(actions[0])\n",
        "while not done:\n",
        "    # _states are only useful when using LSTM policies\n",
        "    action, _states = model.predict(obs)\n",
        "    actions.append(action)\n",
        "    # here, action, rewards and dones are arrays\n",
        "    # because we are using vectorized env\n",
        "    obs, reward, done, info = env.step(action)\n",
        "    p1.append(obs[0][0])\n",
        "    p2.append(obs[0][6])\n",
        "    p3.append(obs[0][12])\n",
        "    p4.append(obs[0][18])\n",
        "    p5.append(obs[0][24])\n",
        "    episode_rewards.append(reward)\n",
        "actions = np.array(actions)\n",
        "actions.shape\n",
        "\n",
        "N = 100\n",
        "omegamax = 1\n",
        "tmax = 10*np.pi/omegamax\n",
        "tpasos = np.linspace(0,tmax,N)\n",
        "print('acciones')\n",
        "plt.step(tpasos, actions[:,0,0])\n",
        "plt.step(tpasos, actions[:,0,1])\n",
        "plt.step(tpasos, actions[:,0,2])\n",
        "plt.show()\n",
        "print('reward')\n",
        "plt.plot(episode_rewards)\n",
        "plt.show()\n",
        "print('estado')\n",
        "plt.plot(tpasos[:-1]/(np.pi/omegamax), p1[:-1], label='rho1')\n",
        "plt.plot(tpasos[:-1]/(np.pi/omegamax), p2[:-1], label='rho2')\n",
        "plt.plot(tpasos[:-1]/(np.pi/omegamax),p3[:-1], label='rho3')\n",
        "plt.plot(tpasos[:-1]/(np.pi/omegamax),p4[:-1], label='rho4')\n",
        "plt.plot(tpasos[:-1]/(np.pi/omegamax), p5[:-1], label='rho5')\n",
        "plt.legend()\n",
        "plt.show()\n",
        "ptot = np.array(p1)+np.array(p2)+np.array(p3)+np.array(p4)+np.array(p5)\n",
        "plt.plot(ptot)"
      ]
    },
    {
      "cell_type": "code",
      "source": [
        ""
      ],
      "metadata": {
        "id": "Cg9FSIeC3BlT"
      },
      "execution_count": null,
      "outputs": []
    }
  ]
}