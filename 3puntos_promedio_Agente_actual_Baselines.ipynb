{
  "cells": [
    {
      "cell_type": "markdown",
      "metadata": {
        "id": "hyyN-2qyK_T2"
      },
      "source": [
        "# Stable Baselines3 Tutorial - Getting Started\n",
        "\n",
        "Github repo: https://github.com/araffin/rl-tutorial-jnrr19/tree/sb3/\n",
        "\n",
        "Stable-Baselines3: https://github.com/DLR-RM/stable-baselines3\n",
        "\n",
        "Documentation: https://stable-baselines3.readthedocs.io/en/master/\n",
        "\n",
        "RL Baselines3 zoo: https://github.com/DLR-RM/rl-baselines3-zoo\n",
        "\n",
        "[RL Baselines3 Zoo](https://github.com/DLR-RM/rl-baselines3-zoo) is a collection of pre-trained Reinforcement Learning agents using Stable-Baselines3.\n",
        "\n",
        "It also provides basic scripts for training, evaluating agents, tuning hyperparameters and recording videos.\n",
        "\n",
        "\n",
        "## Introduction\n",
        "\n",
        "In this notebook, you will learn the basics for using stable baselines library: how to create a RL model, train it and evaluate it. Because all algorithms share the same interface, we will see how simple it is to switch from one algorithm to another.\n",
        "\n",
        "\n",
        "## Install Dependencies and Stable Baselines3 Using Pip\n",
        "\n",
        "List of full dependencies can be found in the [README](https://github.com/DLR-RM/stable-baselines3).\n",
        "\n",
        "\n",
        "```\n",
        "pip install stable-baselines3[extra]\n",
        "```"
      ]
    },
    {
      "cell_type": "code",
      "execution_count": null,
      "metadata": {
        "colab": {
          "base_uri": "https://localhost:8080/"
        },
        "id": "gWskDE2c9WoN",
        "outputId": "8a73e33d-5f93-4950-8c8a-423a88b8665f"
      },
      "outputs": [
        {
          "output_type": "stream",
          "name": "stdout",
          "text": [
            "Looking in indexes: https://pypi.org/simple, https://us-python.pkg.dev/colab-wheels/public/simple/\n",
            "Requirement already satisfied: stable-baselines3[extra] in /usr/local/lib/python3.7/dist-packages (1.5.0)\n",
            "Requirement already satisfied: cloudpickle in /usr/local/lib/python3.7/dist-packages (from stable-baselines3[extra]) (1.3.0)\n",
            "Requirement already satisfied: gym==0.21 in /usr/local/lib/python3.7/dist-packages (from stable-baselines3[extra]) (0.21.0)\n",
            "Requirement already satisfied: numpy in /usr/local/lib/python3.7/dist-packages (from stable-baselines3[extra]) (1.21.6)\n",
            "Requirement already satisfied: torch>=1.8.1 in /usr/local/lib/python3.7/dist-packages (from stable-baselines3[extra]) (1.11.0+cu113)\n",
            "Requirement already satisfied: matplotlib in /usr/local/lib/python3.7/dist-packages (from stable-baselines3[extra]) (3.2.2)\n",
            "Requirement already satisfied: pandas in /usr/local/lib/python3.7/dist-packages (from stable-baselines3[extra]) (1.3.5)\n",
            "Requirement already satisfied: tensorboard>=2.2.0 in /usr/local/lib/python3.7/dist-packages (from stable-baselines3[extra]) (2.8.0)\n",
            "Requirement already satisfied: autorom[accept-rom-license]~=0.4.2 in /usr/local/lib/python3.7/dist-packages (from stable-baselines3[extra]) (0.4.2)\n",
            "Requirement already satisfied: opencv-python in /usr/local/lib/python3.7/dist-packages (from stable-baselines3[extra]) (4.1.2.30)\n",
            "Requirement already satisfied: ale-py~=0.7.4 in /usr/local/lib/python3.7/dist-packages (from stable-baselines3[extra]) (0.7.5)\n",
            "Requirement already satisfied: pillow in /usr/local/lib/python3.7/dist-packages (from stable-baselines3[extra]) (7.1.2)\n",
            "Requirement already satisfied: psutil in /usr/local/lib/python3.7/dist-packages (from stable-baselines3[extra]) (5.4.8)\n",
            "Requirement already satisfied: importlib-metadata>=4.8.1 in /usr/local/lib/python3.7/dist-packages (from gym==0.21->stable-baselines3[extra]) (4.11.4)\n",
            "Requirement already satisfied: importlib-resources in /usr/local/lib/python3.7/dist-packages (from ale-py~=0.7.4->stable-baselines3[extra]) (5.7.1)\n",
            "Requirement already satisfied: tqdm in /usr/local/lib/python3.7/dist-packages (from autorom[accept-rom-license]~=0.4.2->stable-baselines3[extra]) (4.64.0)\n",
            "Requirement already satisfied: click in /usr/local/lib/python3.7/dist-packages (from autorom[accept-rom-license]~=0.4.2->stable-baselines3[extra]) (7.1.2)\n",
            "Requirement already satisfied: requests in /usr/local/lib/python3.7/dist-packages (from autorom[accept-rom-license]~=0.4.2->stable-baselines3[extra]) (2.23.0)\n",
            "Requirement already satisfied: AutoROM.accept-rom-license in /usr/local/lib/python3.7/dist-packages (from autorom[accept-rom-license]~=0.4.2->stable-baselines3[extra]) (0.4.2)\n",
            "Requirement already satisfied: typing-extensions>=3.6.4 in /usr/local/lib/python3.7/dist-packages (from importlib-metadata>=4.8.1->gym==0.21->stable-baselines3[extra]) (4.2.0)\n",
            "Requirement already satisfied: zipp>=0.5 in /usr/local/lib/python3.7/dist-packages (from importlib-metadata>=4.8.1->gym==0.21->stable-baselines3[extra]) (3.8.0)\n",
            "Requirement already satisfied: google-auth<3,>=1.6.3 in /usr/local/lib/python3.7/dist-packages (from tensorboard>=2.2.0->stable-baselines3[extra]) (1.35.0)\n",
            "Requirement already satisfied: werkzeug>=0.11.15 in /usr/local/lib/python3.7/dist-packages (from tensorboard>=2.2.0->stable-baselines3[extra]) (1.0.1)\n",
            "Requirement already satisfied: tensorboard-plugin-wit>=1.6.0 in /usr/local/lib/python3.7/dist-packages (from tensorboard>=2.2.0->stable-baselines3[extra]) (1.8.1)\n",
            "Requirement already satisfied: setuptools>=41.0.0 in /usr/local/lib/python3.7/dist-packages (from tensorboard>=2.2.0->stable-baselines3[extra]) (57.4.0)\n",
            "Requirement already satisfied: tensorboard-data-server<0.7.0,>=0.6.0 in /usr/local/lib/python3.7/dist-packages (from tensorboard>=2.2.0->stable-baselines3[extra]) (0.6.1)\n",
            "Requirement already satisfied: google-auth-oauthlib<0.5,>=0.4.1 in /usr/local/lib/python3.7/dist-packages (from tensorboard>=2.2.0->stable-baselines3[extra]) (0.4.6)\n",
            "Requirement already satisfied: absl-py>=0.4 in /usr/local/lib/python3.7/dist-packages (from tensorboard>=2.2.0->stable-baselines3[extra]) (1.0.0)\n",
            "Requirement already satisfied: grpcio>=1.24.3 in /usr/local/lib/python3.7/dist-packages (from tensorboard>=2.2.0->stable-baselines3[extra]) (1.46.3)\n",
            "Requirement already satisfied: protobuf>=3.6.0 in /usr/local/lib/python3.7/dist-packages (from tensorboard>=2.2.0->stable-baselines3[extra]) (3.17.3)\n",
            "Requirement already satisfied: markdown>=2.6.8 in /usr/local/lib/python3.7/dist-packages (from tensorboard>=2.2.0->stable-baselines3[extra]) (3.3.7)\n",
            "Requirement already satisfied: wheel>=0.26 in /usr/local/lib/python3.7/dist-packages (from tensorboard>=2.2.0->stable-baselines3[extra]) (0.37.1)\n",
            "Requirement already satisfied: six in /usr/local/lib/python3.7/dist-packages (from absl-py>=0.4->tensorboard>=2.2.0->stable-baselines3[extra]) (1.15.0)\n",
            "Requirement already satisfied: rsa<5,>=3.1.4 in /usr/local/lib/python3.7/dist-packages (from google-auth<3,>=1.6.3->tensorboard>=2.2.0->stable-baselines3[extra]) (4.8)\n",
            "Requirement already satisfied: pyasn1-modules>=0.2.1 in /usr/local/lib/python3.7/dist-packages (from google-auth<3,>=1.6.3->tensorboard>=2.2.0->stable-baselines3[extra]) (0.2.8)\n",
            "Requirement already satisfied: cachetools<5.0,>=2.0.0 in /usr/local/lib/python3.7/dist-packages (from google-auth<3,>=1.6.3->tensorboard>=2.2.0->stable-baselines3[extra]) (4.2.4)\n",
            "Requirement already satisfied: requests-oauthlib>=0.7.0 in /usr/local/lib/python3.7/dist-packages (from google-auth-oauthlib<0.5,>=0.4.1->tensorboard>=2.2.0->stable-baselines3[extra]) (1.3.1)\n",
            "Requirement already satisfied: pyasn1<0.5.0,>=0.4.6 in /usr/local/lib/python3.7/dist-packages (from pyasn1-modules>=0.2.1->google-auth<3,>=1.6.3->tensorboard>=2.2.0->stable-baselines3[extra]) (0.4.8)\n",
            "Requirement already satisfied: certifi>=2017.4.17 in /usr/local/lib/python3.7/dist-packages (from requests->autorom[accept-rom-license]~=0.4.2->stable-baselines3[extra]) (2022.5.18.1)\n",
            "Requirement already satisfied: idna<3,>=2.5 in /usr/local/lib/python3.7/dist-packages (from requests->autorom[accept-rom-license]~=0.4.2->stable-baselines3[extra]) (2.10)\n",
            "Requirement already satisfied: chardet<4,>=3.0.2 in /usr/local/lib/python3.7/dist-packages (from requests->autorom[accept-rom-license]~=0.4.2->stable-baselines3[extra]) (3.0.4)\n",
            "Requirement already satisfied: urllib3!=1.25.0,!=1.25.1,<1.26,>=1.21.1 in /usr/local/lib/python3.7/dist-packages (from requests->autorom[accept-rom-license]~=0.4.2->stable-baselines3[extra]) (1.24.3)\n",
            "Requirement already satisfied: oauthlib>=3.0.0 in /usr/local/lib/python3.7/dist-packages (from requests-oauthlib>=0.7.0->google-auth-oauthlib<0.5,>=0.4.1->tensorboard>=2.2.0->stable-baselines3[extra]) (3.2.0)\n",
            "Requirement already satisfied: python-dateutil>=2.1 in /usr/local/lib/python3.7/dist-packages (from matplotlib->stable-baselines3[extra]) (2.8.2)\n",
            "Requirement already satisfied: cycler>=0.10 in /usr/local/lib/python3.7/dist-packages (from matplotlib->stable-baselines3[extra]) (0.11.0)\n",
            "Requirement already satisfied: kiwisolver>=1.0.1 in /usr/local/lib/python3.7/dist-packages (from matplotlib->stable-baselines3[extra]) (1.4.2)\n",
            "Requirement already satisfied: pyparsing!=2.0.4,!=2.1.2,!=2.1.6,>=2.0.1 in /usr/local/lib/python3.7/dist-packages (from matplotlib->stable-baselines3[extra]) (3.0.9)\n",
            "Requirement already satisfied: pytz>=2017.3 in /usr/local/lib/python3.7/dist-packages (from pandas->stable-baselines3[extra]) (2022.1)\n"
          ]
        }
      ],
      "source": [
        "!pip install stable-baselines3[extra]\n",
        "#!pip install stable-baselines"
      ]
    },
    {
      "cell_type": "markdown",
      "metadata": {
        "id": "FtY8FhliLsGm"
      },
      "source": [
        "## Imports"
      ]
    },
    {
      "cell_type": "markdown",
      "metadata": {
        "id": "gcX8hEcaUpR0"
      },
      "source": [
        "Stable-Baselines3 works on environments that follow the [gym interface](https://stable-baselines3.readthedocs.io/en/master/guide/custom_env.html).\n",
        "You can find a list of available environment [here](https://gym.openai.com/envs/#classic_control).\n",
        "\n",
        "It is also recommended to check the [source code](https://github.com/openai/gym) to learn more about the observation and action space of each env, as gym does not have a proper documentation.\n",
        "Not all algorithms can work with all action spaces, you can find more in this [recap table](https://stable-baselines3.readthedocs.io/en/master/guide/algos.html)"
      ]
    },
    {
      "cell_type": "code",
      "execution_count": null,
      "metadata": {
        "id": "BIedd7Pz9sOs"
      },
      "outputs": [],
      "source": [
        "import gym\n",
        "import numpy as np"
      ]
    },
    {
      "cell_type": "markdown",
      "metadata": {
        "id": "Ae32CtgzTG3R"
      },
      "source": [
        "The first thing you need to import is the RL model, check the documentation to know what you can use on which problem"
      ]
    },
    {
      "cell_type": "code",
      "execution_count": null,
      "metadata": {
        "id": "R7tKaBFrTR0a"
      },
      "outputs": [],
      "source": [
        "from stable_baselines3 import PPO\n",
        "from stable_baselines3 import DDPG\n",
        "#from stable_baselines import TRPO"
      ]
    },
    {
      "cell_type": "markdown",
      "metadata": {
        "id": "-0_8OQbOTTNT"
      },
      "source": [
        "The next thing you need to import is the policy class that will be used to create the networks (for the policy/value functions).\n",
        "This step is optional as you can directly use strings in the constructor: \n",
        "\n",
        "```PPO('MlpPolicy', env)``` instead of ```PPO(MlpPolicy, env)```\n",
        "\n",
        "Note that some algorithms like `SAC` have their own `MlpPolicy`, that's why using string for the policy is the recommened option."
      ]
    },
    {
      "cell_type": "code",
      "execution_count": null,
      "metadata": {
        "id": "ROUJr675TT01"
      },
      "outputs": [],
      "source": [
        "#from stable_baselines3.ppo.policies import MlpPolicy\n",
        "from stable_baselines3.ddpg.policies import MlpPolicy"
      ]
    },
    {
      "cell_type": "markdown",
      "metadata": {
        "id": "RapkYvTXL7Cd"
      },
      "source": [
        "## Create the Gym env and instantiate the agent\n",
        "\n",
        "For this example, we will use CartPole environment, a classic control problem.\n",
        "\n",
        "\"A pole is attached by an un-actuated joint to a cart, which moves along a frictionless track. The system is controlled by applying a force of +1 or -1 to the cart. The pendulum starts upright, and the goal is to prevent it from falling over. A reward of +1 is provided for every timestep that the pole remains upright. \"\n",
        "\n",
        "Cartpole environment: [https://gym.openai.com/envs/CartPole-v1/](https://gym.openai.com/envs/CartPole-v1/)\n",
        "\n",
        "![Cartpole](https://cdn-images-1.medium.com/max/1143/1*h4WTQNVIsvMXJTCpXm_TAw.gif)\n",
        "\n",
        "\n",
        "We chose the MlpPolicy because the observation of the CartPole task is a feature vector, not images.\n",
        "\n",
        "The type of action to use (discrete/continuous) will be automatically deduced from the environment action space\n",
        "\n",
        "Here we are using the [Proximal Policy Optimization](https://stable-baselines3.readthedocs.io/en/master/modules/ppo2.html) algorithm, which is an Actor-Critic method: it uses a value function to improve the policy gradient descent (by reducing the variance).\n",
        "\n",
        "It combines ideas from [A2C](https://stable-baselines3.readthedocs.io/en/master/modules/a2c.html) (having multiple workers and using an entropy bonus for exploration) and [TRPO](https://stable-baselines.readthedocs.io/en/master/modules/trpo.html) (it uses a trust region to improve stability and avoid catastrophic drops in performance).\n",
        "\n",
        "PPO is an on-policy algorithm, which means that the trajectories used to update the networks must be collected using the latest policy.\n",
        "It is usually less sample efficient than off-policy alorithms like [DQN](https://stable-baselines.readthedocs.io/en/master/modules/dqn.html), [SAC](https://stable-baselines3.readthedocs.io/en/master/modules/sac.html) or [TD3](https://stable-baselines3.readthedocs.io/en/master/modules/td3.html), but is much faster regarding wall-clock time.\n"
      ]
    },
    {
      "cell_type": "code",
      "execution_count": null,
      "metadata": {
        "colab": {
          "base_uri": "https://localhost:8080/"
        },
        "id": "AwdAtaGMt4J0",
        "outputId": "08b75d3e-c8c1-4119-e7b4-30a26baab81f"
      },
      "outputs": [
        {
          "output_type": "stream",
          "name": "stdout",
          "text": [
            "Looking in indexes: https://pypi.org/simple, https://us-python.pkg.dev/colab-wheels/public/simple/\n",
            "Requirement already satisfied: odeintw in /usr/local/lib/python3.7/dist-packages (0.1.1)\n",
            "Requirement already satisfied: scipy in /usr/local/lib/python3.7/dist-packages (from odeintw) (1.4.1)\n",
            "Requirement already satisfied: numpy>=1.13.3 in /usr/local/lib/python3.7/dist-packages (from scipy->odeintw) (1.21.6)\n"
          ]
        }
      ],
      "source": [
        "from gym import Env\n",
        "from gym.spaces import Discrete, Box\n",
        "import numpy as np\n",
        "import random\n",
        "import numpy as np\n",
        "import matplotlib.pyplot as plt\n",
        "!pip install odeintw\n",
        "from odeintw import odeintw\n",
        "\n",
        "class PassageEnv(Env):\n",
        "    def __init__(self):\n",
        "        # Limites y espacio de las acciones [omega1, omega2]\n",
        "        self.action_space = Box(low=np.array([0,0]), high=np.array([1,1]))\n",
        "        #  Limites y espacio de los estados: [\\rho, sigma1, sigma2]\n",
        "        self.observation_space = Box(low=np.array([0,0,0,0,0,0,0,0,0,0,0]), \n",
        "                                high=np.array([1,1,1,1,1,1,1,1,1,1,1]))\n",
        "        # Set start state\n",
        "        self.state = np.array([1,0,0,0,0,0,0,0,0,0,0],dtype=np.complex128)\n",
        "\n",
        "        self.length_trial = 0\n",
        "\n",
        "\n",
        "    def refuerzo(self, p3, p2):\n",
        "        return (-1 + 50*p3 - 20*p2) #+ A(p2)\n",
        "\n",
        "    def step(self, action):\n",
        "        # Aplicar accion\n",
        "        omega1 = action[0]\n",
        "        omega2 = action[1]\n",
        "\n",
        "        # Cambiar el hamiltoniano\n",
        "        def right_part(rho, t):\n",
        "  \n",
        "          hamiltonian = np.array([[0     , -omega1,      0  ],\n",
        "                                  [-omega1,    0.0 , -omega2 ],\n",
        "                                  [ 0     , -omega2,      0.0]],\n",
        "                                  dtype=np.complex128)\n",
        "          return (np.dot(hamiltonian, rho) - np.dot(rho, hamiltonian)) / (1j)\n",
        "\n",
        "        # Evolucion temporal\n",
        "        N = 100\n",
        "        omegamax = 1\n",
        "        dt = (50*np.pi/omegamax)/N\n",
        "        #tmax = 10\n",
        "        tpasos = np.linspace(0,dt,N)\n",
        "        rho = np.array([[self.state[i] for i in range(0,3)],\n",
        "                      [self.state[i] for i in range(3,6)],\n",
        "                      [self.state[i] for i in range(6,9)]], dtype=np.complex128)\n",
        "\n",
        "        result = odeintw(right_part, rho, tpasos)\n",
        "        p11, p12, p13 = [],[],[]\n",
        "        p21, p22, p23 = [],[],[]\n",
        "        p31, p32, p33 = [],[],[]\n",
        "        for i in range(0,N):\n",
        "          resultado = np.reshape(result[i],(9,))\n",
        "          p11.append(resultado[0])\n",
        "          p12.append(resultado[1])\n",
        "          p13.append(resultado[2])\n",
        "\n",
        "          p21.append(resultado[3])\n",
        "          p22.append(resultado[4])\n",
        "          p23.append(resultado[5])\n",
        "\n",
        "          p31.append(resultado[6])\n",
        "          p32.append(resultado[7])\n",
        "          p33.append(resultado[8])\n",
        "\n",
        "        #final_result = result[-1]\n",
        "        #final_result = np.reshape(final_result,(9,))\n",
        "\n",
        "        # Nuevo estado a partir de la matriz densidad obtenida\n",
        "        #result = final_result\n",
        "        #result = [np.mean(i) for i in final_result]\n",
        "        #result = [i[-2] for i in final_result] # Testeando\n",
        "        #self.state = np.array([result[0], result[1], result[2], result[3], result[4], result[5], result[6], result[7], result[8], omega1, omega2])\n",
        "        self.state = np.array([np.mean(p11), np.mean(p12), np.mean(p13),\n",
        "                               np.mean(p21), np.mean(p22), np.mean(p23),\n",
        "                               np.mean(p31), np.mean(p32), np.mean(p33), omega1, omega2])\n",
        "        # Calcular el refuerzo\n",
        "        reward = self.refuerzo(self.state[6], self.state[8])\n",
        "\n",
        "        done = False\n",
        "      \n",
        "        if self.state[4]>0.05:\n",
        "          reward -= 100\n",
        "\n",
        "        self.length_trial += 1\n",
        "      \n",
        "        if self.state[8] >= 0.99 and self.length_trial==100:\n",
        "            reward += 1000\n",
        "            done = True\n",
        "\n",
        "        if self.length_trial >= 50:\n",
        "            done = True\n",
        "\n",
        "        info = {}\n",
        "\n",
        "        return self.state, reward, done, info\n",
        "\n",
        "    def render(self):\n",
        "        pass\n",
        "\n",
        "    def reset(self):\n",
        "        self.state = np.array([1,0,0,0,0,0,0,0,0,0,0])\n",
        "        self.length_trial = 0\n",
        "        return self.state"
      ]
    },
    {
      "cell_type": "code",
      "execution_count": null,
      "metadata": {
        "colab": {
          "base_uri": "https://localhost:8080/"
        },
        "id": "pUWGZp3i9wyf",
        "outputId": "952674ab-479e-4a3a-e9ca-dc65c4667854"
      },
      "outputs": [
        {
          "output_type": "stream",
          "name": "stderr",
          "text": [
            "/usr/local/lib/python3.7/dist-packages/gym/spaces/box.py:74: UserWarning: \u001b[33mWARN: Box bound precision lowered by casting to float32\u001b[0m\n",
            "  \"Box bound precision lowered by casting to {}\".format(self.dtype)\n"
          ]
        }
      ],
      "source": [
        "#env = gym.make('CartPole-v1')\n",
        "env = PassageEnv()\n",
        "\n",
        "#model = PPO(MlpPolicy, env, verbose=0)\n",
        "model = DDPG(MlpPolicy, env)"
      ]
    },
    {
      "cell_type": "markdown",
      "metadata": {
        "id": "4efFdrQ7MBvl"
      },
      "source": [
        "We create a helper function to evaluate the agent:"
      ]
    },
    {
      "cell_type": "code",
      "execution_count": null,
      "metadata": {
        "id": "63M8mSKR-6Zt"
      },
      "outputs": [],
      "source": [
        "def evaluate(model, num_episodes=100):\n",
        "    \"\"\"\n",
        "    Evaluate a RL agent\n",
        "    :param model: (BaseRLModel object) the RL Agent\n",
        "    :param num_episodes: (int) number of episodes to evaluate it\n",
        "    :return: (float) Mean reward for the last num_episodes\n",
        "    \"\"\"\n",
        "    # This function will only work for a single Environment\n",
        "    env = model.get_env()\n",
        "    all_episode_rewards = []\n",
        "    for i in range(num_episodes):\n",
        "        episode_rewards = []\n",
        "        done = False\n",
        "        obs = env.reset()\n",
        "        while not done:\n",
        "            # _states are only useful when using LSTM policies\n",
        "            action, _states = model.predict(obs)\n",
        "            # here, action, rewards and dones are arrays\n",
        "            # because we are using vectorized env\n",
        "            obs, reward, done, info = env.step(action)\n",
        "            episode_rewards.append(reward)\n",
        "\n",
        "        all_episode_rewards.append(sum(episode_rewards))\n",
        "\n",
        "    mean_episode_reward = np.mean(all_episode_rewards)\n",
        "    print(\"Mean reward:\", mean_episode_reward, \"Num episodes:\", num_episodes)\n",
        "\n",
        "    return mean_episode_reward"
      ]
    },
    {
      "cell_type": "markdown",
      "metadata": {
        "id": "zjEVOIY8NVeK"
      },
      "source": [
        "Let's evaluate the un-trained agent, this should be a random agent."
      ]
    },
    {
      "cell_type": "code",
      "execution_count": null,
      "metadata": {
        "id": "xDHLMA6NFk95"
      },
      "outputs": [],
      "source": [
        "# Random Agent, before training\n",
        "#mean_reward_before_train = evaluate(model, num_episodes=100)"
      ]
    },
    {
      "cell_type": "markdown",
      "metadata": {
        "id": "QjjPxrwkYJ2i"
      },
      "source": [
        "Stable-Baselines already provides you with that helper:"
      ]
    },
    {
      "cell_type": "code",
      "execution_count": null,
      "metadata": {
        "id": "8z6K9YImYJEx"
      },
      "outputs": [],
      "source": [
        "from stable_baselines3.common.evaluation import evaluate_policy"
      ]
    },
    {
      "cell_type": "code",
      "execution_count": null,
      "metadata": {
        "id": "4oPTHjxyZSOL"
      },
      "outputs": [],
      "source": [
        "#mean_reward, std_reward = evaluate_policy(model, env, n_eval_episodes=100)\n",
        "\n",
        "#print(f\"mean_reward:{mean_reward:.2f} +/- {std_reward:.2f}\")"
      ]
    },
    {
      "cell_type": "markdown",
      "metadata": {
        "id": "r5UoXTZPNdFE"
      },
      "source": [
        "## Train the agent and evaluate it"
      ]
    },
    {
      "cell_type": "code",
      "execution_count": null,
      "metadata": {
        "colab": {
          "base_uri": "https://localhost:8080/"
        },
        "id": "e4cfSXIB-pTF",
        "outputId": "70d9af33-9c26-4574-ed66-add255c0a064"
      },
      "outputs": [
        {
          "output_type": "stream",
          "name": "stderr",
          "text": [
            "/usr/local/lib/python3.7/dist-packages/stable_baselines3/common/vec_env/dummy_vec_env.py:44: ComplexWarning: Casting complex values to real discards the imaginary part\n",
            "  self.actions[env_idx]\n",
            "/usr/local/lib/python3.7/dist-packages/stable_baselines3/common/vec_env/dummy_vec_env.py:92: ComplexWarning: Casting complex values to real discards the imaginary part\n",
            "  self.buf_obs[key][env_idx] = obs\n",
            "/usr/local/lib/python3.7/dist-packages/stable_baselines3/common/off_policy_algorithm.py:502: ComplexWarning: Casting complex values to real discards the imaginary part\n",
            "  next_obs[i] = infos[i][\"terminal_observation\"]\n"
          ]
        },
        {
          "output_type": "execute_result",
          "data": {
            "text/plain": [
              "<stable_baselines3.ddpg.ddpg.DDPG at 0x7f0a8180b550>"
            ]
          },
          "metadata": {},
          "execution_count": 11
        }
      ],
      "source": [
        "# Train the agent for 10000 steps\n",
        "N_steps = 10000\n",
        "model.learn(total_timesteps=N_steps)"
      ]
    },
    {
      "cell_type": "code",
      "execution_count": null,
      "metadata": {
        "id": "ygl_gVmV_QP7"
      },
      "outputs": [],
      "source": [
        "# Evaluate the trained agent\n",
        "#mean_reward, std_reward = evaluate_policy(model, env, n_eval_episodes=100)\n",
        "#mean_reward_before_train = evaluate(model, num_episodes=100)\n",
        "\n",
        "#print(f\"mean_reward:{mean_reward:.2f} +/- {std_reward:.2f}\")"
      ]
    },
    {
      "cell_type": "code",
      "execution_count": null,
      "metadata": {
        "id": "cYcGQww5dByz",
        "colab": {
          "base_uri": "https://localhost:8080/"
        },
        "outputId": "c4492919-2830-425f-dea4-140180620a23"
      },
      "outputs": [
        {
          "output_type": "stream",
          "name": "stdout",
          "text": [
            "Drive already mounted at /content/google_drive; to attempt to forcibly remount, call drive.mount(\"/content/google_drive\", force_remount=True).\n",
            "True\n"
          ]
        }
      ],
      "source": [
        "# Leyendo archivos desde Google drive\n",
        "GOOGLE_DRIVE = '/content/google_drive'\n",
        "import numpy as np\n",
        "from google.colab import drive\n",
        "drive.mount(GOOGLE_DRIVE)\n",
        "path = GOOGLE_DRIVE+'/MyDrive/archivos_teorica/'\n",
        "import os.path\n",
        "import os\n",
        "\n",
        "dir_path = path+'BL_3puntos_promedio_'+str(N_steps)+'/'\n",
        "\n",
        "isExist = os.path.exists(dir_path)\n",
        "\n",
        "if not isExist:\n",
        "  os.makedirs(dir_path)\n",
        "\n",
        "path_file = dir_path+\"Baselines_Model_W_\"+str(N_steps)+\"_episodes\"\n",
        "file_exists = os.path.exists(path_file+'.zip')\n",
        "print(file_exists)\n",
        "\n",
        "if not file_exists:\n",
        "  model.save(path_file)"
      ]
    },
    {
      "cell_type": "code",
      "execution_count": null,
      "metadata": {
        "id": "zyQi5o09q3U4",
        "colab": {
          "base_uri": "https://localhost:8080/",
          "height": 939
        },
        "outputId": "b615b166-192c-41eb-a8ec-0b15f66b3d74"
      },
      "outputs": [
        {
          "output_type": "stream",
          "name": "stdout",
          "text": [
            "acciones\n"
          ]
        },
        {
          "output_type": "stream",
          "name": "stderr",
          "text": [
            "/usr/local/lib/python3.7/dist-packages/stable_baselines3/common/vec_env/dummy_vec_env.py:44: ComplexWarning: Casting complex values to real discards the imaginary part\n",
            "  self.actions[env_idx]\n",
            "/usr/local/lib/python3.7/dist-packages/stable_baselines3/common/vec_env/dummy_vec_env.py:92: ComplexWarning: Casting complex values to real discards the imaginary part\n",
            "  self.buf_obs[key][env_idx] = obs\n"
          ]
        },
        {
          "output_type": "display_data",
          "data": {
            "text/plain": [
              "<Figure size 432x288 with 1 Axes>"
            ],
            "image/png": "[encoded data removed]"
          },
          "metadata": {
            "needs_background": "light"
          }
        },
        {
          "output_type": "stream",
          "name": "stdout",
          "text": [
            "estado\n"
          ]
        },
        {
          "output_type": "display_data",
          "data": {
            "text/plain": [
              "<Figure size 432x288 with 1 Axes>"
            ],
            "image/png": "[encoded data removed]"
          },
          "metadata": {
            "needs_background": "light"
          }
        },
        {
          "output_type": "stream",
          "name": "stdout",
          "text": [
            "reward\n"
          ]
        },
        {
          "output_type": "display_data",
          "data": {
            "text/plain": [
              "<Figure size 432x288 with 1 Axes>"
            ],
            "image/png": "[encoded data removed]"
          },
          "metadata": {
            "needs_background": "light"
          }
        }
      ],
      "source": [
        "env = model.get_env()\n",
        "episode_rewards = []\n",
        "done = False\n",
        "obs = env.reset()\n",
        "actions = []\n",
        "p1, p2, p3 = [obs[0][0]], [obs[0][4]], [obs[0][8]]\n",
        "actions.append([[0,0]])\n",
        "obs, reward, done, info = env.step(actions[0])\n",
        "while not done:\n",
        "    # _states are only useful when using LSTM policies\n",
        "    action, _states = model.predict(obs)\n",
        "    actions.append(action)\n",
        "    # here, action, rewards and dones are arrays\n",
        "    # because we are using vectorized env\n",
        "    obs, reward, done, info = env.step(action)\n",
        "    p1.append(obs[0][0])\n",
        "    p2.append(obs[0][4])\n",
        "    p3.append(obs[0][8])\n",
        "    episode_rewards.append(reward)\n",
        "actions = np.array(actions)\n",
        "actions.shape\n",
        "\n",
        "N = len(actions[:,0,0])\n",
        "tmax = 50*np.pi\n",
        "tpasos = np.linspace(0,tmax,N)\n",
        "print('acciones')\n",
        "plt.xlabel('t[$\\mathregular{ps}$]')\n",
        "plt.ylabel('$\\mathregular{\\Omega/\\Omega_{max}}$')\n",
        "plt.step(tpasos, actions[:,0,0], label='$\\mathregular{\\Omega_{1}}$')\n",
        "plt.step(tpasos, actions[:,0,1], label='$\\mathregular{\\Omega_{2}}$')\n",
        "plt.legend()\n",
        "path_img = dir_path+'Acciones.png'\n",
        "file_exists = os.path.exists(path_img)\n",
        "if not file_exists:\n",
        "  plt.savefig(dir_path+'Acciones.png', dpi=300, transparent=False, bbox_inches='tight')\n",
        "plt.show()\n",
        "print('estado')\n",
        "plt.plot(tpasos[:-1], p1[:-1], label='rho1')\n",
        "plt.plot(tpasos[:-1], p2[:-1], label='rho2')\n",
        "plt.plot(tpasos[:-1], p3[:-1], label='rho3')\n",
        "plt.legend()\n",
        "plt.xlabel('t[$\\mathregular{ps}$]')\n",
        "plt.ylabel('$\\mathregular{\\\\rho}$')\n",
        "\n",
        "path_img = dir_path+'Estado.png'\n",
        "file_exists = os.path.exists(path_img)\n",
        "if not file_exists:\n",
        "  plt.savefig(dir_path+'Estado.png', dpi=300, transparent=False, bbox_inches='tight')\n",
        "plt.show()\n",
        "ptot = np.array(p1)+np.array(p2)+np.array(p3)\n",
        "plt.plot(ptot)\n",
        "print('reward')\n",
        "plt.plot(episode_rewards)\n",
        "plt.show()"
      ]
    },
    {
      "cell_type": "code",
      "execution_count": null,
      "metadata": {
        "id": "ksma2-1qFOx_",
        "colab": {
          "base_uri": "https://localhost:8080/",
          "height": 334
        },
        "outputId": "14316132-c8a3-4a9d-a6b3-04b74b915eef"
      },
      "outputs": [
        {
          "output_type": "stream",
          "name": "stderr",
          "text": [
            "/usr/local/lib/python3.7/dist-packages/gym/spaces/box.py:74: UserWarning: \u001b[33mWARN: Box bound precision lowered by casting to float32\u001b[0m\n",
            "  \"Box bound precision lowered by casting to {}\".format(self.dtype)\n",
            "/usr/local/lib/python3.7/dist-packages/matplotlib/cbook/__init__.py:1317: ComplexWarning: Casting complex values to real discards the imaginary part\n",
            "  return np.asarray(x, float)\n"
          ]
        },
        {
          "output_type": "display_data",
          "data": {
            "text/plain": [
              "<Figure size 432x288 with 1 Axes>"
            ],
            "image/png": "[encoded data removed]"
          },
          "metadata": {
            "needs_background": "light"
          }
        }
      ],
      "source": [
        "env = PassageEnv()\n",
        "\n",
        "p11 = []\n",
        "p22 = []\n",
        "p33 = []\n",
        "for t in range(len(actions[:,0,0])):\n",
        "  result = env.step([actions[t,0,0], actions[t,0,1]])[0]\n",
        "  p11.append(result[0])\n",
        "  p22.append(result[4])\n",
        "  p33.append(result[8])\n",
        "\n",
        "plt.plot(p11, label='rho1')\n",
        "plt.plot(p22, label='rho2')\n",
        "plt.plot(p33, label='rho3')\n",
        "plt.legend()\n",
        "plt.show()"
      ]
    },
    {
      "cell_type": "code",
      "execution_count": null,
      "metadata": {
        "id": "Na0dgxOBxBMZ",
        "colab": {
          "base_uri": "https://localhost:8080/"
        },
        "outputId": "8d589cc4-dbed-4928-8832-cf6bcbeadf49"
      },
      "outputs": [
        {
          "output_type": "execute_result",
          "data": {
            "text/plain": [
              "ContinuousCritic(\n",
              "  (features_extractor): FlattenExtractor(\n",
              "    (flatten): Flatten(start_dim=1, end_dim=-1)\n",
              "  )\n",
              "  (qf0): Sequential(\n",
              "    (0): Linear(in_features=13, out_features=400, bias=True)\n",
              "    (1): ReLU()\n",
              "    (2): Linear(in_features=400, out_features=300, bias=True)\n",
              "    (3): ReLU()\n",
              "    (4): Linear(in_features=300, out_features=1, bias=True)\n",
              "  )\n",
              ")"
            ]
          },
          "metadata": {},
          "execution_count": 16
        }
      ],
      "source": [
        "model.critic"
      ]
    },
    {
      "cell_type": "code",
      "execution_count": null,
      "metadata": {
        "id": "Mgr4d_0U1bIs",
        "colab": {
          "base_uri": "https://localhost:8080/"
        },
        "outputId": "fdcdbe39-281b-43af-c298-6ef2da33a752"
      },
      "outputs": [
        {
          "output_type": "execute_result",
          "data": {
            "text/plain": [
              "Actor(\n",
              "  (features_extractor): FlattenExtractor(\n",
              "    (flatten): Flatten(start_dim=1, end_dim=-1)\n",
              "  )\n",
              "  (mu): Sequential(\n",
              "    (0): Linear(in_features=11, out_features=400, bias=True)\n",
              "    (1): ReLU()\n",
              "    (2): Linear(in_features=400, out_features=300, bias=True)\n",
              "    (3): ReLU()\n",
              "    (4): Linear(in_features=300, out_features=2, bias=True)\n",
              "    (5): Tanh()\n",
              "  )\n",
              ")"
            ]
          },
          "metadata": {},
          "execution_count": 17
        }
      ],
      "source": [
        "model.actor"
      ]
    },
    {
      "cell_type": "code",
      "execution_count": null,
      "metadata": {
        "id": "Cg9FSIeC3BlT"
      },
      "outputs": [],
      "source": [
        ""
      ]
    }
  ],
  "metadata": {
    "accelerator": "GPU",
    "colab": {
      "collapsed_sections": [],
      "name": "3puntos_promedio_Agente_actual_Baselines.ipynb",
      "provenance": []
    },
    "kernelspec": {
      "display_name": "Python 3",
      "name": "python3"
    }
  },
  "nbformat": 4,
  "nbformat_minor": 0
}